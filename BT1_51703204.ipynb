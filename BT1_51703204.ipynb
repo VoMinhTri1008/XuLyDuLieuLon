{
  "nbformat": 4,
  "nbformat_minor": 0,
  "metadata": {
    "colab": {
      "name": "BT1-51703204.ipynb",
      "provenance": [],
      "collapsed_sections": []
    },
    "kernelspec": {
      "name": "python3",
      "display_name": "Python 3"
    }
  },
  "cells": [
    {
      "cell_type": "code",
      "metadata": {
        "colab": {
          "base_uri": "https://localhost:8080/"
        },
        "id": "MVDQHgoWNzJ2",
        "outputId": "38647c6d-543f-4ea6-ded0-89247e1c7909"
      },
      "source": [
        "pip install pyspark"
      ],
      "execution_count": 12,
      "outputs": [
        {
          "output_type": "stream",
          "text": [
            "Collecting pyspark\n",
            "\u001b[?25l  Downloading https://files.pythonhosted.org/packages/f0/26/198fc8c0b98580f617cb03cb298c6056587b8f0447e20fa40c5b634ced77/pyspark-3.0.1.tar.gz (204.2MB)\n",
            "\u001b[K     |████████████████████████████████| 204.2MB 72kB/s \n",
            "\u001b[?25hCollecting py4j==0.10.9\n",
            "\u001b[?25l  Downloading https://files.pythonhosted.org/packages/9e/b6/6a4fb90cd235dc8e265a6a2067f2a2c99f0d91787f06aca4bcf7c23f3f80/py4j-0.10.9-py2.py3-none-any.whl (198kB)\n",
            "\u001b[K     |████████████████████████████████| 204kB 50.3MB/s \n",
            "\u001b[?25hBuilding wheels for collected packages: pyspark\n",
            "  Building wheel for pyspark (setup.py) ... \u001b[?25l\u001b[?25hdone\n",
            "  Created wheel for pyspark: filename=pyspark-3.0.1-py2.py3-none-any.whl size=204612242 sha256=d11b9b9a6c09e2b072d126317febe08d1bc039fec0be15ea95c7ceca13f460b9\n",
            "  Stored in directory: /root/.cache/pip/wheels/5e/bd/07/031766ca628adec8435bb40f0bd83bb676ce65ff4007f8e73f\n",
            "Successfully built pyspark\n",
            "Installing collected packages: py4j, pyspark\n",
            "Successfully installed py4j-0.10.9 pyspark-3.0.1\n"
          ],
          "name": "stdout"
        }
      ]
    },
    {
      "cell_type": "code",
      "metadata": {
        "id": "Q1l2FookN4XW"
      },
      "source": [
        "import pyspark"
      ],
      "execution_count": 13,
      "outputs": []
    },
    {
      "cell_type": "code",
      "metadata": {
        "id": "2P2NrPebN_1m"
      },
      "source": [
        "from pyspark import SparkConf, SparkContext\r\n",
        "import collections"
      ],
      "execution_count": 14,
      "outputs": []
    },
    {
      "cell_type": "code",
      "metadata": {
        "id": "J36Etx8AN5oL"
      },
      "source": [
        "conf = SparkConf().setMaster('local').setAppName('read text file in pyspark')\r\n",
        "#sc = SparkContext(conf = conf)\r\n",
        "sc = SparkContext.getOrCreate(conf = conf)"
      ],
      "execution_count": 15,
      "outputs": []
    },
    {
      "cell_type": "code",
      "metadata": {
        "id": "oFGq-BIoQetG"
      },
      "source": [
        "lines = sc.textFile(\"text.txt\")"
      ],
      "execution_count": 76,
      "outputs": []
    },
    {
      "cell_type": "code",
      "metadata": {
        "id": "vfAWqd5mOTL4"
      },
      "source": [
        "llist = lines.collect()"
      ],
      "execution_count": 81,
      "outputs": []
    },
    {
      "cell_type": "code",
      "metadata": {
        "colab": {
          "base_uri": "https://localhost:8080/"
        },
        "id": "Nc9lUTIWSf7-",
        "outputId": "ae816c43-58a9-4fab-c7b0-b87a53f67663"
      },
      "source": [
        "for line in llist:\r\n",
        "\tprint(line)"
      ],
      "execution_count": 82,
      "outputs": [
        {
          "output_type": "stream",
          "text": [
            "one\n",
            "two\n",
            "three\n",
            "four\n",
            "five\n",
            "six\n",
            "seven\n",
            "eight\n",
            "nine\n",
            "ten\n",
            "one\n",
            "two\n",
            "three\n",
            "four\n",
            "five\n"
          ],
          "name": "stdout"
        }
      ]
    },
    {
      "cell_type": "code",
      "metadata": {
        "colab": {
          "base_uri": "https://localhost:8080/"
        },
        "id": "0r5z1v-xTiFx",
        "outputId": "c0b5e7c4-d71d-4348-ff07-c2d5e7473e03"
      },
      "source": [
        "rdd=sc.parallelize(llist)\r\n",
        "counts=rdd.map(lambda word: (word,1))\r\n",
        "print(counts.collect())"
      ],
      "execution_count": 83,
      "outputs": [
        {
          "output_type": "stream",
          "text": [
            "[('one', 1), ('two', 1), ('three', 1), ('four', 1), ('five', 1), ('six', 1), ('seven', 1), ('eight', 1), ('nine', 1), ('ten', 1), ('one', 1), ('two', 1), ('three', 1), ('four', 1), ('five', 1)]\n"
          ],
          "name": "stdout"
        }
      ]
    },
    {
      "cell_type": "code",
      "metadata": {
        "colab": {
          "base_uri": "https://localhost:8080/"
        },
        "id": "cHrryZ9ZVBxW",
        "outputId": "59676fee-ae9d-468c-9eea-f66229572723"
      },
      "source": [
        "red = counts.reduceByKey(lambda x,y: x+y)\r\n",
        "print(red.collect())"
      ],
      "execution_count": 84,
      "outputs": [
        {
          "output_type": "stream",
          "text": [
            "[('one', 2), ('two', 2), ('three', 2), ('four', 2), ('five', 2), ('six', 1), ('seven', 1), ('eight', 1), ('nine', 1), ('ten', 1)]\n"
          ],
          "name": "stdout"
        }
      ]
    }
  ]
}