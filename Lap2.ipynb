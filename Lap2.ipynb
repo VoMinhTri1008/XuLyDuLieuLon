{
  "nbformat": 4,
  "nbformat_minor": 0,
  "metadata": {
    "colab": {
      "name": "Lap2.ipynb",
      "provenance": [],
      "collapsed_sections": []
    },
    "kernelspec": {
      "name": "python3",
      "display_name": "Python 3"
    }
  },
  "cells": [
    {
      "cell_type": "code",
      "metadata": {
        "colab": {
          "base_uri": "https://localhost:8080/"
        },
        "id": "LvVUEiIDzrVT",
        "outputId": "46025ab0-757f-42b2-d30a-842365827dfc"
      },
      "source": [
        "print('h')"
      ],
      "execution_count": 1,
      "outputs": [
        {
          "output_type": "stream",
          "text": [
            "h\n"
          ],
          "name": "stdout"
        }
      ]
    },
    {
      "cell_type": "code",
      "metadata": {
        "colab": {
          "base_uri": "https://localhost:8080/"
        },
        "id": "d99wFEK20DFI",
        "outputId": "41f9763d-9134-4b9d-c3d7-6239eeedab55"
      },
      "source": [
        "binhphuong = lambda x:x**2\r\n",
        "print(binhphuong(3))"
      ],
      "execution_count": 3,
      "outputs": [
        {
          "output_type": "stream",
          "text": [
            "9\n"
          ],
          "name": "stdout"
        }
      ]
    },
    {
      "cell_type": "code",
      "metadata": {
        "colab": {
          "base_uri": "https://localhost:8080/"
        },
        "id": "cu7MLdor_Dt3",
        "outputId": "f8bc1eca-430b-4ec3-a0e7-0f8456c1ac9f"
      },
      "source": [
        "pip install pyspark"
      ],
      "execution_count": 4,
      "outputs": [
        {
          "output_type": "stream",
          "text": [
            "Collecting pyspark\n",
            "\u001b[?25l  Downloading https://files.pythonhosted.org/packages/f0/26/198fc8c0b98580f617cb03cb298c6056587b8f0447e20fa40c5b634ced77/pyspark-3.0.1.tar.gz (204.2MB)\n",
            "\u001b[K     |████████████████████████████████| 204.2MB 52kB/s \n",
            "\u001b[?25hCollecting py4j==0.10.9\n",
            "\u001b[?25l  Downloading https://files.pythonhosted.org/packages/9e/b6/6a4fb90cd235dc8e265a6a2067f2a2c99f0d91787f06aca4bcf7c23f3f80/py4j-0.10.9-py2.py3-none-any.whl (198kB)\n",
            "\u001b[K     |████████████████████████████████| 204kB 44.5MB/s \n",
            "\u001b[?25hBuilding wheels for collected packages: pyspark\n",
            "  Building wheel for pyspark (setup.py) ... \u001b[?25l\u001b[?25hdone\n",
            "  Created wheel for pyspark: filename=pyspark-3.0.1-py2.py3-none-any.whl size=204612242 sha256=c9e99e1d99d3550c5d55c2ebae7affa4f6be5f97167885ae93424c3fae0a88dc\n",
            "  Stored in directory: /root/.cache/pip/wheels/5e/bd/07/031766ca628adec8435bb40f0bd83bb676ce65ff4007f8e73f\n",
            "Successfully built pyspark\n",
            "Installing collected packages: py4j, pyspark\n",
            "Successfully installed py4j-0.10.9 pyspark-3.0.1\n"
          ],
          "name": "stdout"
        }
      ]
    },
    {
      "cell_type": "code",
      "metadata": {
        "id": "7E7uwcb2AAOP"
      },
      "source": [
        "import pyspark"
      ],
      "execution_count": 7,
      "outputs": []
    },
    {
      "cell_type": "code",
      "metadata": {
        "id": "xIXE8pBKFbLf"
      },
      "source": [
        "from pyspark import SparkConf, SparkContext\r\n",
        "import collections\r\n",
        "\r\n",
        "conf = SparkConf().setMaster('local').setAppName('word counting')\r\n",
        "#sc = SparkContext(conf = conf)\r\n",
        "sc = SparkContext.getOrCreate(conf = conf)"
      ],
      "execution_count": 9,
      "outputs": []
    },
    {
      "cell_type": "code",
      "metadata": {
        "colab": {
          "base_uri": "https://localhost:8080/"
        },
        "id": "HEe5UgMdGt12",
        "outputId": "260836c2-bc6b-43a3-9afb-bbc9ba61ed81"
      },
      "source": [
        "text=\"to be or not to be\".split()\n",
        "rdd=sc.parallelize(text)\n",
        "counts=rdd.map(lambda word: (word,1))\n",
        "print(counts.collect())"
      ],
      "execution_count": 12,
      "outputs": [
        {
          "output_type": "stream",
          "text": [
            "[('to', 1), ('be', 1), ('or', 1), ('not', 1), ('to', 1), ('be', 1)]\n"
          ],
          "name": "stdout"
        }
      ]
    },
    {
      "cell_type": "code",
      "metadata": {
        "colab": {
          "base_uri": "https://localhost:8080/"
        },
        "id": "ytkd8R5THlPe",
        "outputId": "a563f8a0-2df4-4875-dee0-80cc42953e29"
      },
      "source": [
        "red = counts.reduceByKey(lambda x,y: x+y)\r\n",
        "print(red.collect())"
      ],
      "execution_count": 13,
      "outputs": [
        {
          "output_type": "stream",
          "text": [
            "[('to', 2), ('be', 2), ('or', 1), ('not', 1)]\n"
          ],
          "name": "stdout"
        }
      ]
    },
    {
      "cell_type": "code",
      "metadata": {
        "id": "k_6yyhwcLr9_"
      },
      "source": [
        "import functools"
      ],
      "execution_count": 19,
      "outputs": []
    },
    {
      "cell_type": "code",
      "metadata": {
        "colab": {
          "base_uri": "https://localhost:8080/"
        },
        "id": "ej-WzksTKSbQ",
        "outputId": "3c0e43c9-e881-4fcc-c8d4-2f8cc066321f"
      },
      "source": [
        "lis = [ 1 , 3, 5, 6, 2, ] \r\n",
        "z= len(lis)\r\n"
      ],
      "execution_count": 27,
      "outputs": [
        {
          "output_type": "stream",
          "text": [
            "5\n"
          ],
          "name": "stdout"
        }
      ]
    },
    {
      "cell_type": "markdown",
      "metadata": {
        "id": "X76brwMoMJXg"
      },
      "source": [
        ""
      ]
    },
    {
      "cell_type": "code",
      "metadata": {
        "colab": {
          "base_uri": "https://localhost:8080/"
        },
        "id": "9FT4nU79MKD7",
        "outputId": "ed5ad8a8-b538-46e8-9423-84b0ef3d8e30"
      },
      "source": [
        "print (\"so lon nhat : \",end=\"\") \r\n",
        "print (functools.reduce(lambda a,b : a if a > b else b,lis))"
      ],
      "execution_count": 25,
      "outputs": [
        {
          "output_type": "stream",
          "text": [
            "The maximum element of the list is : 6\n"
          ],
          "name": "stdout"
        }
      ]
    },
    {
      "cell_type": "code",
      "metadata": {
        "colab": {
          "base_uri": "https://localhost:8080/"
        },
        "id": "Wq7q8ZWeMhpJ",
        "outputId": "a5b48b94-1166-44b0-c9f9-1e4b826dbea5"
      },
      "source": [
        " print ((functools.reduce(lambda a,b : a+b,lis))/len(lis))\r\n"
      ],
      "execution_count": 36,
      "outputs": [
        {
          "output_type": "stream",
          "text": [
            "3.4\n"
          ],
          "name": "stdout"
        }
      ]
    }
  ]
}